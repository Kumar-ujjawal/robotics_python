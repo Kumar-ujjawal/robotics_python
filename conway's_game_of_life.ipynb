{
 "cells": [
  {
   "cell_type": "code",
   "execution_count": 1,
   "id": "151bbe28",
   "metadata": {},
   "outputs": [
    {
     "name": "stdout",
     "output_type": "stream",
     "text": [
      "Requirement already satisfied: pygame in c:\\users\\kumar\\appdata\\local\\programs\\python\\python310\\lib\\site-packages (2.5.2)\n",
      "Note: you may need to restart the kernel to use updated packages.\n"
     ]
    },
    {
     "name": "stderr",
     "output_type": "stream",
     "text": [
      "\n",
      "[notice] A new release of pip is available: 24.0 -> 24.1.1\n",
      "[notice] To update, run: C:\\Users\\kumar\\AppData\\Local\\Programs\\Python\\Python310\\python.exe -m pip install --upgrade pip\n"
     ]
    }
   ],
   "source": [
    "pip install pygame"
   ]
  },
  {
   "cell_type": "code",
   "execution_count": 2,
   "id": "058ddd42",
   "metadata": {},
   "outputs": [],
   "source": [
    "import pygame\n",
    "import time\n",
    "import numpy as np\n",
    "\n",
    "COLOR_BG = (20, 20, 20)\n",
    "COLOR_GRID = (40, 40, 40)\n",
    "COLOR_DIE_NEXT = (170, 170, 170)\n",
    "COLOR_ALIVE_NEXT = (255, 255, 255)\n",
    "\n",
    "def update(screen, cells, size, with_progress=False):\n",
    "    updated_cells = np.zeros((cells.shape[0], cells.shape[1]))\n",
    "    for row, col in np.ndindex(cells.shape):\n",
    "        alive = np.sum(cells[row-1:row+2, col-1:col+2]) - cells[row, col]\n",
    "        color = COLOR_BG if cells[row, col] == 0 else COLOR_ALIVE_NEXT\n",
    "        \n",
    "        if cells[row, col] == 1:\n",
    "            if alive < 2 or alive > 3:\n",
    "                if with_progress:\n",
    "                    color = COLOR_DIE_NEXT\n",
    "            elif 2 <= alive <= 3:\n",
    "                updated_cells[row, col] = 1\n",
    "                if with_progress:\n",
    "                    color = COLOR_ALIVE_NEXT\n",
    "        else:\n",
    "            if alive == 3:\n",
    "                updated_cells[row, col] = 1\n",
    "                if with_progress:\n",
    "                    color = COLOR_ALIVE_NEXT\n",
    "        pygame.draw.rect(screen, color, (col*size, row*size, size-1, size-1))\n",
    "    return updated_cells\n",
    "\n",
    "def main():\n",
    "    pygame.init()\n",
    "    screen = pygame.display.set_mode((800, 600))\n",
    "    \n",
    "    cells = np.zeros((60, 80))\n",
    "    screen.fill(COLOR_GRID)\n",
    "    update(screen, cells, 10)\n",
    "    \n",
    "    pygame.display.flip()\n",
    "    pygame.display.update()\n",
    "    \n",
    "    running = False\n",
    "    \n",
    "    while True:\n",
    "        for event in pygame.event.get():\n",
    "            if event.type == pygame.QUIT:\n",
    "                pygame.quit()\n",
    "                return\n",
    "            elif event.type == pygame.KEYDOWN:\n",
    "                if event.key == pygame.K_SPACE:\n",
    "                    running = not running\n",
    "                    update(screen, cells, 10)\n",
    "                    pygame.display.update()\n",
    "            if pygame.mouse.get_pressed()[0]:\n",
    "                pos = pygame.mouse.get_pos()\n",
    "                cells[pos[1]//10, pos[0]//10] = 1\n",
    "                update(screen, cells, 10)\n",
    "                pygame.display.update()\n",
    "        \n",
    "        screen.fill(COLOR_GRID)\n",
    "        \n",
    "        if running:\n",
    "            cells = update(screen, cells, 10, with_progress=True)\n",
    "            pygame.display.update()\n",
    "        \n",
    "        time.sleep(0.001)\n",
    "\n",
    "if __name__ == \"__main__\":\n",
    "    main()"
   ]
  },
  {
   "cell_type": "code",
   "execution_count": null,
   "id": "ea18c7cb",
   "metadata": {},
   "outputs": [],
   "source": []
  }
 ],
 "metadata": {
  "kernelspec": {
   "display_name": "Python 3 (ipykernel)",
   "language": "python",
   "name": "python3"
  },
  "language_info": {
   "codemirror_mode": {
    "name": "ipython",
    "version": 3
   },
   "file_extension": ".py",
   "mimetype": "text/x-python",
   "name": "python",
   "nbconvert_exporter": "python",
   "pygments_lexer": "ipython3",
   "version": "3.10.5"
  }
 },
 "nbformat": 4,
 "nbformat_minor": 5
}
