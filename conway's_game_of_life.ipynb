{
 "cells": [
  {
   "cell_type": "code",
   "execution_count": 1,
   "id": "151bbe28",
   "metadata": {},
   "outputs": [
    {
     "name": "stdout",
     "output_type": "stream",
     "text": [
      "Requirement already satisfied: pygame in c:\\users\\kumar\\appdata\\local\\programs\\python\\python310\\lib\\site-packages (2.5.2)\n",
      "Note: you may need to restart the kernel to use updated packages.\n"
     ]
    }
   ],
   "source": [
    "pip install pygame"
   ]
  },
  {
   "cell_type": "code",
   "execution_count": 1,
   "id": "058ddd42",
   "metadata": {},
   "outputs": [
    {
     "name": "stdout",
     "output_type": "stream",
     "text": [
      "pygame 2.5.2 (SDL 2.28.3, Python 3.10.5)\n",
      "Hello from the pygame community. https://www.pygame.org/contribute.html\n"
     ]
    },
    {
     "ename": "IndexError",
     "evalue": "index 90 is out of bounds for axis 1 with size 80",
     "output_type": "error",
     "traceback": [
      "\u001b[1;31m---------------------------------------------------------------------------\u001b[0m",
      "\u001b[1;31mIndexError\u001b[0m                                Traceback (most recent call last)",
      "Input \u001b[1;32mIn [1]\u001b[0m, in \u001b[0;36m<cell line: 69>\u001b[1;34m()\u001b[0m\n\u001b[0;32m     67\u001b[0m         time\u001b[38;5;241m.\u001b[39msleep(\u001b[38;5;241m0.001\u001b[39m)\n\u001b[0;32m     69\u001b[0m \u001b[38;5;28;01mif\u001b[39;00m \u001b[38;5;18m__name__\u001b[39m \u001b[38;5;241m==\u001b[39m \u001b[38;5;124m\"\u001b[39m\u001b[38;5;124m__main__\u001b[39m\u001b[38;5;124m\"\u001b[39m:\n\u001b[1;32m---> 70\u001b[0m     \u001b[43mmain\u001b[49m\u001b[43m(\u001b[49m\u001b[43m)\u001b[49m\n",
      "Input \u001b[1;32mIn [1]\u001b[0m, in \u001b[0;36mmain\u001b[1;34m()\u001b[0m\n\u001b[0;32m     55\u001b[0m \u001b[38;5;28;01mif\u001b[39;00m pygame\u001b[38;5;241m.\u001b[39mmouse\u001b[38;5;241m.\u001b[39mget_pressed()[\u001b[38;5;241m0\u001b[39m]:\n\u001b[0;32m     56\u001b[0m     pos \u001b[38;5;241m=\u001b[39m pygame\u001b[38;5;241m.\u001b[39mmouse\u001b[38;5;241m.\u001b[39mget_pos()\n\u001b[1;32m---> 57\u001b[0m     \u001b[43mcells\u001b[49m\u001b[43m[\u001b[49m\u001b[43mpos\u001b[49m\u001b[43m[\u001b[49m\u001b[38;5;241;43m1\u001b[39;49m\u001b[43m]\u001b[49m\u001b[38;5;241;43m/\u001b[39;49m\u001b[38;5;241;43m/\u001b[39;49m\u001b[38;5;241;43m10\u001b[39;49m\u001b[43m,\u001b[49m\u001b[43m \u001b[49m\u001b[43mpos\u001b[49m\u001b[43m[\u001b[49m\u001b[38;5;241;43m0\u001b[39;49m\u001b[43m]\u001b[49m\u001b[38;5;241;43m/\u001b[39;49m\u001b[38;5;241;43m/\u001b[39;49m\u001b[38;5;241;43m10\u001b[39;49m\u001b[43m]\u001b[49m \u001b[38;5;241m=\u001b[39m \u001b[38;5;241m1\u001b[39m\n\u001b[0;32m     58\u001b[0m     update(screen, cells, \u001b[38;5;241m10\u001b[39m)\n\u001b[0;32m     59\u001b[0m     pygame\u001b[38;5;241m.\u001b[39mdisplay\u001b[38;5;241m.\u001b[39mupdate()\n",
      "\u001b[1;31mIndexError\u001b[0m: index 90 is out of bounds for axis 1 with size 80"
     ]
    }
   ],
   "source": [
    "import pygame\n",
    "import time\n",
    "import numpy as np\n",
    "\n",
    "COLOR_BG = (20, 20, 20)\n",
    "COLOR_GRID = (40, 40, 40)\n",
    "COLOR_DIE_NEXT = (170, 170, 170)\n",
    "COLOR_ALIVE_NEXT = (255, 255, 255)\n",
    "\n",
    "def update(screen, cells, size, with_progress=False):\n",
    "    updated_cells = np.zeros((cells.shape[0], cells.shape[1]))\n",
    "    for row, col in np.ndindex(cells.shape):\n",
    "        alive = np.sum(cells[row-1:row+2, col-1:col+2]) - cells[row, col]\n",
    "        color = COLOR_BG if cells[row, col] == 0 else COLOR_ALIVE_NEXT\n",
    "        \n",
    "        if cells[row, col] == 1:\n",
    "            if alive < 2 or alive > 3:\n",
    "                if with_progress:\n",
    "                    color = COLOR_DIE_NEXT\n",
    "            elif 2 <= alive <= 3:\n",
    "                updated_cells[row, col] = 1\n",
    "                if with_progress:\n",
    "                    color = COLOR_ALIVE_NEXT\n",
    "        else:\n",
    "            if alive == 3:\n",
    "                updated_cells[row, col] = 1\n",
    "                if with_progress:\n",
    "                    color = COLOR_ALIVE_NEXT\n",
    "        pygame.draw.rect(screen, color, (col*size, row*size, size-1, size-1))\n",
    "    return updated_cells\n",
    "\n",
    "def main():\n",
    "    pygame.init()\n",
    "    screen = pygame.display.set_mode((800, 600))\n",
    "    \n",
    "    cells = np.zeros((60, 80))\n",
    "    screen.fill(COLOR_GRID)\n",
    "    update(screen, cells, 10)\n",
    "    \n",
    "    pygame.display.flip()\n",
    "    pygame.display.update()\n",
    "    \n",
    "    running = False\n",
    "    \n",
    "    while True:\n",
    "        for event in pygame.event.get():\n",
    "            if event.type == pygame.QUIT:\n",
    "                pygame.quit()\n",
    "                return\n",
    "            elif event.type == pygame.KEYDOWN:\n",
    "                if event.key == pygame.K_SPACE:\n",
    "                    running = not running\n",
    "                    update(screen, cells, 10)\n",
    "                    pygame.display.update()\n",
    "            if pygame.mouse.get_pressed()[0]:\n",
    "                pos = pygame.mouse.get_pos()\n",
    "                cells[pos[1]//10, pos[0]//10] = 1\n",
    "                update(screen, cells, 10)\n",
    "                pygame.display.update()\n",
    "        \n",
    "        screen.fill(COLOR_GRID)\n",
    "        \n",
    "        if running:\n",
    "            cells = update(screen, cells, 10, with_progress=True)\n",
    "            pygame.display.update()\n",
    "        \n",
    "        time.sleep(0.001)\n",
    "\n",
    "if __name__ == \"__main__\":\n",
    "    main()"
   ]
  },
  {
   "cell_type": "code",
   "execution_count": null,
   "id": "ea18c7cb",
   "metadata": {},
   "outputs": [],
   "source": []
  }
 ],
 "metadata": {
  "kernelspec": {
   "display_name": "Python 3 (ipykernel)",
   "language": "python",
   "name": "python3"
  },
  "language_info": {
   "codemirror_mode": {
    "name": "ipython",
    "version": 3
   },
   "file_extension": ".py",
   "mimetype": "text/x-python",
   "name": "python",
   "nbconvert_exporter": "python",
   "pygments_lexer": "ipython3",
   "version": "3.10.5"
  }
 },
 "nbformat": 4,
 "nbformat_minor": 5
}
