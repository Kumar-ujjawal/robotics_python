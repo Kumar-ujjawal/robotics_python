{
 "cells": [
  {
   "cell_type": "code",
   "execution_count": null,
   "id": "eb915bfb",
   "metadata": {},
   "outputs": [],
   "source": [
    "pip install phonenumbers"
   ]
  },
  {
   "cell_type": "code",
   "execution_count": null,
   "id": "52ae10e2",
   "metadata": {},
   "outputs": [],
   "source": [
    "import phonenumbers\n",
    "from phonenumbers import geocoder, carrier, timezone\n",
    "\n",
    "# Replace with the phone number you want to analyze\n",
    "phone_number = \"+9135684551\"  # Example number, change this to the actual number\n",
    "\n",
    "# Parse the phone number\n",
    "parsed_number = phonenumbers.parse(phone_number)\n",
    "\n",
    "# Get the location of the phone number\n",
    "location = geocoder.description_for_number(parsed_number, \"en\")\n",
    "\n",
    "# Get the carrier of the phone number\n",
    "carrier_name = carrier.name_for_number(parsed_number, \"en\")\n",
    "\n",
    "# Get the time zone of the phone number\n",
    "time_zones = timezone.time_zones_for_number(parsed_number)\n",
    "\n",
    "# Print the information\n",
    "print(f\"Phone Number: {phone_number}\")\n",
    "print(f\"Location: {location}\")\n",
    "print(f\"Carrier: {carrier_name}\")\n",
    "print(f\"Time Zones: {', '.join(time_zones)}\")\n"
   ]
  }
 ],
 "metadata": {
  "kernelspec": {
   "display_name": "Python 3 (ipykernel)",
   "language": "python",
   "name": "python3"
  },
  "language_info": {
   "codemirror_mode": {
    "name": "ipython",
    "version": 3
   },
   "file_extension": ".py",
   "mimetype": "text/x-python",
   "name": "python",
   "nbconvert_exporter": "python",
   "pygments_lexer": "ipython3",
   "version": "3.10.5"
  }
 },
 "nbformat": 4,
 "nbformat_minor": 5
}
